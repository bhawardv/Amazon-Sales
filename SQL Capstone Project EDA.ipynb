{
 "cells": [
  {
   "cell_type": "code",
   "execution_count": 1,
   "id": "8481df89",
   "metadata": {},
   "outputs": [],
   "source": [
    "import mysql.connector\n",
    "import pandas as pd\n",
    "import numpy as np\n",
    "import matplotlib.pyplot as plt\n",
    "import seaborn as sns"
   ]
  },
  {
   "cell_type": "code",
   "execution_count": 2,
   "id": "10eaf4b9",
   "metadata": {},
   "outputs": [
    {
     "name": "stdout",
     "output_type": "stream",
     "text": [
      "<mysql.connector.connection_cext.CMySQLConnection object at 0x000002A051857310>\n"
     ]
    }
   ],
   "source": [
    "db = mysql.connector.connect (\n",
    "     host = 'localhost',\n",
    "     user = 'root',\n",
    "     password = 'XXXXXXXXXXX',\n",
    "     database = 'amazon_database'\n",
    ")\n",
    "\n",
    "mycursor = db.cursor()\n",
    "print(db)"
   ]
  },
  {
   "cell_type": "code",
   "execution_count": 3,
   "id": "8366961f",
   "metadata": {},
   "outputs": [
    {
     "name": "stdout",
     "output_type": "stream",
     "text": [
      "('750-67-8428', 'A', 'Yangon', 'Member', 'Female', 'Health and beauty', Decimal('74.69'), 7, 26.1415, Decimal('548.97'), datetime.date(2019, 1, 5), datetime.timedelta(seconds=47280), 'Ewallet', Decimal('522.83'), 4.7619, Decimal('26.14'), 9.1, 'Afternoon', 'Sat', 'Jan')\n",
      "('226-31-3081', 'C', 'Naypyitaw', 'Normal', 'Female', 'Electronic accessories', Decimal('15.28'), 5, 3.82, Decimal('80.22'), datetime.date(2019, 3, 8), datetime.timedelta(seconds=37740), 'Cash', Decimal('76.40'), 4.7619, Decimal('3.82'), 9.6, 'Morning', 'Fri', 'Mar')\n",
      "('631-41-3108', 'A', 'Yangon', 'Normal', 'Male', 'Home and lifestyle', Decimal('46.33'), 7, 16.2155, Decimal('340.53'), datetime.date(2019, 3, 3), datetime.timedelta(seconds=48180), 'Credit card', Decimal('324.31'), 4.7619, Decimal('16.22'), 7.4, 'Afternoon', 'Sun', 'Mar')\n",
      "('123-19-1176', 'A', 'Yangon', 'Member', 'Male', 'Health and beauty', Decimal('58.22'), 8, 23.288, Decimal('489.05'), datetime.date(2019, 1, 27), datetime.timedelta(seconds=73980), 'Ewallet', Decimal('465.76'), 4.7619, Decimal('23.29'), 8.4, 'Evening', 'Sun', 'Jan')\n",
      "('373-73-7910', 'A', 'Yangon', 'Normal', 'Male', 'Sports and travel', Decimal('86.31'), 7, 30.2085, Decimal('634.38'), datetime.date(2019, 2, 8), datetime.timedelta(seconds=38220), 'Ewallet', Decimal('604.17'), 4.7619, Decimal('30.21'), 5.3, 'Morning', 'Fri', 'Feb')\n"
     ]
    }
   ],
   "source": [
    "mycursor.execute('Select * from amazon limit 5')\n",
    "result = mycursor.fetchall()\n",
    "for row in result:\n",
    "    print(row)"
   ]
  },
  {
   "cell_type": "code",
   "execution_count": 4,
   "id": "f211c0c0",
   "metadata": {},
   "outputs": [
    {
     "name": "stderr",
     "output_type": "stream",
     "text": [
      "C:\\Users\\Bhawar\\AppData\\Local\\Temp\\ipykernel_6836\\379300747.py:2: UserWarning: pandas only supports SQLAlchemy connectable (engine/connection) or database string URI or sqlite3 DBAPI2 connection. Other DBAPI2 objects are not tested. Please consider using SQLAlchemy.\n",
      "  amazon = pd.read_sql(data, db)\n"
     ]
    }
   ],
   "source": [
    "data = 'select * from amazon'\n",
    "amazon = pd.read_sql(data, db)"
   ]
  },
  {
   "cell_type": "code",
   "execution_count": 5,
   "id": "c62ac1be",
   "metadata": {
    "scrolled": false
   },
   "outputs": [
    {
     "data": {
      "text/html": [
       "<div>\n",
       "<style scoped>\n",
       "    .dataframe tbody tr th:only-of-type {\n",
       "        vertical-align: middle;\n",
       "    }\n",
       "\n",
       "    .dataframe tbody tr th {\n",
       "        vertical-align: top;\n",
       "    }\n",
       "\n",
       "    .dataframe thead th {\n",
       "        text-align: right;\n",
       "    }\n",
       "</style>\n",
       "<table border=\"1\" class=\"dataframe\">\n",
       "  <thead>\n",
       "    <tr style=\"text-align: right;\">\n",
       "      <th></th>\n",
       "      <th>Invoice_Id</th>\n",
       "      <th>Branch</th>\n",
       "      <th>City</th>\n",
       "      <th>Customer_type</th>\n",
       "      <th>Gender</th>\n",
       "      <th>Product_line</th>\n",
       "      <th>Unit_price</th>\n",
       "      <th>Quantity</th>\n",
       "      <th>VAT</th>\n",
       "      <th>Total</th>\n",
       "      <th>Date</th>\n",
       "      <th>Time</th>\n",
       "      <th>Payment</th>\n",
       "      <th>cogs</th>\n",
       "      <th>gross_margin_percentage</th>\n",
       "      <th>gross_income</th>\n",
       "      <th>Rating</th>\n",
       "      <th>time_of_day</th>\n",
       "      <th>day_name</th>\n",
       "      <th>month_name</th>\n",
       "    </tr>\n",
       "  </thead>\n",
       "  <tbody>\n",
       "    <tr>\n",
       "      <th>0</th>\n",
       "      <td>750-67-8428</td>\n",
       "      <td>A</td>\n",
       "      <td>Yangon</td>\n",
       "      <td>Member</td>\n",
       "      <td>Female</td>\n",
       "      <td>Health and beauty</td>\n",
       "      <td>74.69</td>\n",
       "      <td>7</td>\n",
       "      <td>26.1415</td>\n",
       "      <td>548.97</td>\n",
       "      <td>2019-01-05</td>\n",
       "      <td>0 days 13:08:00</td>\n",
       "      <td>Ewallet</td>\n",
       "      <td>522.83</td>\n",
       "      <td>4.7619</td>\n",
       "      <td>26.14</td>\n",
       "      <td>9.1</td>\n",
       "      <td>Afternoon</td>\n",
       "      <td>Sat</td>\n",
       "      <td>Jan</td>\n",
       "    </tr>\n",
       "    <tr>\n",
       "      <th>1</th>\n",
       "      <td>226-31-3081</td>\n",
       "      <td>C</td>\n",
       "      <td>Naypyitaw</td>\n",
       "      <td>Normal</td>\n",
       "      <td>Female</td>\n",
       "      <td>Electronic accessories</td>\n",
       "      <td>15.28</td>\n",
       "      <td>5</td>\n",
       "      <td>3.8200</td>\n",
       "      <td>80.22</td>\n",
       "      <td>2019-03-08</td>\n",
       "      <td>0 days 10:29:00</td>\n",
       "      <td>Cash</td>\n",
       "      <td>76.40</td>\n",
       "      <td>4.7619</td>\n",
       "      <td>3.82</td>\n",
       "      <td>9.6</td>\n",
       "      <td>Morning</td>\n",
       "      <td>Fri</td>\n",
       "      <td>Mar</td>\n",
       "    </tr>\n",
       "    <tr>\n",
       "      <th>2</th>\n",
       "      <td>631-41-3108</td>\n",
       "      <td>A</td>\n",
       "      <td>Yangon</td>\n",
       "      <td>Normal</td>\n",
       "      <td>Male</td>\n",
       "      <td>Home and lifestyle</td>\n",
       "      <td>46.33</td>\n",
       "      <td>7</td>\n",
       "      <td>16.2155</td>\n",
       "      <td>340.53</td>\n",
       "      <td>2019-03-03</td>\n",
       "      <td>0 days 13:23:00</td>\n",
       "      <td>Credit card</td>\n",
       "      <td>324.31</td>\n",
       "      <td>4.7619</td>\n",
       "      <td>16.22</td>\n",
       "      <td>7.4</td>\n",
       "      <td>Afternoon</td>\n",
       "      <td>Sun</td>\n",
       "      <td>Mar</td>\n",
       "    </tr>\n",
       "    <tr>\n",
       "      <th>3</th>\n",
       "      <td>123-19-1176</td>\n",
       "      <td>A</td>\n",
       "      <td>Yangon</td>\n",
       "      <td>Member</td>\n",
       "      <td>Male</td>\n",
       "      <td>Health and beauty</td>\n",
       "      <td>58.22</td>\n",
       "      <td>8</td>\n",
       "      <td>23.2880</td>\n",
       "      <td>489.05</td>\n",
       "      <td>2019-01-27</td>\n",
       "      <td>0 days 20:33:00</td>\n",
       "      <td>Ewallet</td>\n",
       "      <td>465.76</td>\n",
       "      <td>4.7619</td>\n",
       "      <td>23.29</td>\n",
       "      <td>8.4</td>\n",
       "      <td>Evening</td>\n",
       "      <td>Sun</td>\n",
       "      <td>Jan</td>\n",
       "    </tr>\n",
       "    <tr>\n",
       "      <th>4</th>\n",
       "      <td>373-73-7910</td>\n",
       "      <td>A</td>\n",
       "      <td>Yangon</td>\n",
       "      <td>Normal</td>\n",
       "      <td>Male</td>\n",
       "      <td>Sports and travel</td>\n",
       "      <td>86.31</td>\n",
       "      <td>7</td>\n",
       "      <td>30.2085</td>\n",
       "      <td>634.38</td>\n",
       "      <td>2019-02-08</td>\n",
       "      <td>0 days 10:37:00</td>\n",
       "      <td>Ewallet</td>\n",
       "      <td>604.17</td>\n",
       "      <td>4.7619</td>\n",
       "      <td>30.21</td>\n",
       "      <td>5.3</td>\n",
       "      <td>Morning</td>\n",
       "      <td>Fri</td>\n",
       "      <td>Feb</td>\n",
       "    </tr>\n",
       "  </tbody>\n",
       "</table>\n",
       "</div>"
      ],
      "text/plain": [
       "    Invoice_Id Branch       City Customer_type  Gender  \\\n",
       "0  750-67-8428      A     Yangon        Member  Female   \n",
       "1  226-31-3081      C  Naypyitaw        Normal  Female   \n",
       "2  631-41-3108      A     Yangon        Normal    Male   \n",
       "3  123-19-1176      A     Yangon        Member    Male   \n",
       "4  373-73-7910      A     Yangon        Normal    Male   \n",
       "\n",
       "             Product_line  Unit_price  Quantity      VAT   Total        Date  \\\n",
       "0       Health and beauty       74.69         7  26.1415  548.97  2019-01-05   \n",
       "1  Electronic accessories       15.28         5   3.8200   80.22  2019-03-08   \n",
       "2      Home and lifestyle       46.33         7  16.2155  340.53  2019-03-03   \n",
       "3       Health and beauty       58.22         8  23.2880  489.05  2019-01-27   \n",
       "4       Sports and travel       86.31         7  30.2085  634.38  2019-02-08   \n",
       "\n",
       "             Time      Payment    cogs  gross_margin_percentage  gross_income  \\\n",
       "0 0 days 13:08:00      Ewallet  522.83                   4.7619         26.14   \n",
       "1 0 days 10:29:00         Cash   76.40                   4.7619          3.82   \n",
       "2 0 days 13:23:00  Credit card  324.31                   4.7619         16.22   \n",
       "3 0 days 20:33:00      Ewallet  465.76                   4.7619         23.29   \n",
       "4 0 days 10:37:00      Ewallet  604.17                   4.7619         30.21   \n",
       "\n",
       "   Rating time_of_day day_name month_name  \n",
       "0     9.1   Afternoon      Sat        Jan  \n",
       "1     9.6     Morning      Fri        Mar  \n",
       "2     7.4   Afternoon      Sun        Mar  \n",
       "3     8.4     Evening      Sun        Jan  \n",
       "4     5.3     Morning      Fri        Feb  "
      ]
     },
     "execution_count": 5,
     "metadata": {},
     "output_type": "execute_result"
    }
   ],
   "source": [
    "amazon.head()"
   ]
  },
  {
   "cell_type": "code",
   "execution_count": 6,
   "id": "641755dd",
   "metadata": {},
   "outputs": [
    {
     "data": {
      "text/plain": [
       "Index(['Invoice_Id', 'Branch', 'City', 'Customer_type', 'Gender',\n",
       "       'Product_line', 'Unit_price', 'Quantity', 'VAT', 'Total', 'Date',\n",
       "       'Time', 'Payment', 'cogs', 'gross_margin_percentage', 'gross_income',\n",
       "       'Rating', 'time_of_day', 'day_name', 'month_name'],\n",
       "      dtype='object')"
      ]
     },
     "execution_count": 6,
     "metadata": {},
     "output_type": "execute_result"
    }
   ],
   "source": [
    "amazon.columns"
   ]
  },
  {
   "cell_type": "markdown",
   "id": "4da6ae0e",
   "metadata": {},
   "source": [
    "## Exploratory Data Analysis"
   ]
  },
  {
   "cell_type": "markdown",
   "id": "8ceecffe",
   "metadata": {},
   "source": [
    "1. What is the count of distinct cities in the dataset?"
   ]
  },
  {
   "cell_type": "code",
   "execution_count": 7,
   "id": "fa1e6a91",
   "metadata": {},
   "outputs": [
    {
     "data": {
      "text/plain": [
       "3"
      ]
     },
     "execution_count": 7,
     "metadata": {},
     "output_type": "execute_result"
    }
   ],
   "source": [
    "amazon['City'].nunique()"
   ]
  },
  {
   "cell_type": "markdown",
   "id": "2814a568",
   "metadata": {},
   "source": [
    "2. For each branch, what is the corresponding city?"
   ]
  },
  {
   "cell_type": "code",
   "execution_count": 8,
   "id": "e321c393",
   "metadata": {},
   "outputs": [
    {
     "data": {
      "text/plain": [
       "Branch  City     \n",
       "A       Yangon       340\n",
       "B       Mandalay     332\n",
       "C       Naypyitaw    328\n",
       "Name: City, dtype: int64"
      ]
     },
     "execution_count": 8,
     "metadata": {},
     "output_type": "execute_result"
    }
   ],
   "source": [
    "amazon.groupby('Branch')['City'].value_counts()"
   ]
  },
  {
   "cell_type": "markdown",
   "id": "05cbfbf4",
   "metadata": {},
   "source": [
    "3. What is the count of distinct product lines in the dataset?"
   ]
  },
  {
   "cell_type": "code",
   "execution_count": 9,
   "id": "826bc53a",
   "metadata": {},
   "outputs": [
    {
     "data": {
      "text/plain": [
       "6"
      ]
     },
     "execution_count": 9,
     "metadata": {},
     "output_type": "execute_result"
    }
   ],
   "source": [
    "amazon['Product_line'].nunique()"
   ]
  },
  {
   "cell_type": "markdown",
   "id": "060174c8",
   "metadata": {},
   "source": [
    "4. Which payment method occurs most frequently?"
   ]
  },
  {
   "cell_type": "code",
   "execution_count": 10,
   "id": "c82ec4e1",
   "metadata": {},
   "outputs": [
    {
     "data": {
      "text/plain": [
       "'Ewallet'"
      ]
     },
     "execution_count": 10,
     "metadata": {},
     "output_type": "execute_result"
    }
   ],
   "source": [
    "amazon['Payment'].max()"
   ]
  },
  {
   "cell_type": "markdown",
   "id": "cb227257",
   "metadata": {},
   "source": [
    "5. Which product line has the highest sales?"
   ]
  },
  {
   "cell_type": "code",
   "execution_count": 16,
   "id": "8bdc37ad",
   "metadata": {},
   "outputs": [
    {
     "data": {
      "text/plain": [
       "Product_line\n",
       "Food and beverages        2673.68\n",
       "Sports and travel         2625.07\n",
       "Electronic accessories    2587.61\n",
       "Fashion accessories       2586.13\n",
       "Home and lifestyle        2564.90\n",
       "Health and beauty         2342.66\n",
       "Name: gross_income, dtype: float64"
      ]
     },
     "execution_count": 16,
     "metadata": {},
     "output_type": "execute_result"
    }
   ],
   "source": [
    "high_sales = amazon.groupby('Product_line')['gross_income'].sum().sort_values(ascending=False)\n",
    "high_sales"
   ]
  },
  {
   "cell_type": "code",
   "execution_count": 22,
   "id": "5f03274a",
   "metadata": {},
   "outputs": [
    {
     "data": {
      "image/png": "[encoded data removed]",
      "text/plain": [
       "<Figure size 640x480 with 1 Axes>"
      ]
     },
     "metadata": {},
     "output_type": "display_data"
    }
   ],
   "source": [
    "labels = high_sales.index.tolist()\n",
    "plt.pie(high_sales,labels= labels, autopct='%1.2f%%',)\n",
    "plt.show()"
   ]
  },
  {
   "cell_type": "markdown",
   "id": "6e274d9c",
   "metadata": {},
   "source": [
    "6. How much revenue is generated each month?"
   ]
  },
  {
   "cell_type": "code",
   "execution_count": 23,
   "id": "f44953fc",
   "metadata": {},
   "outputs": [
    {
     "data": {
      "text/plain": [
       "month_name\n",
       "Jan    116292.11\n",
       "Mar    109455.74\n",
       "Feb     97219.58\n",
       "Name: Total, dtype: float64"
      ]
     },
     "execution_count": 23,
     "metadata": {},
     "output_type": "execute_result"
    }
   ],
   "source": [
    "rev_month = amazon.groupby('month_name')['Total'].sum().sort_values(ascending=False)\n",
    "rev_month"
   ]
  },
  {
   "cell_type": "markdown",
   "id": "1bace26d",
   "metadata": {},
   "source": [
    "7. In which month did the cost of goods sold reach its peak?"
   ]
  },
  {
   "cell_type": "code",
   "execution_count": 13,
   "id": "cd628593",
   "metadata": {},
   "outputs": [
    {
     "data": {
      "text/plain": [
       "'Feb'"
      ]
     },
     "execution_count": 13,
     "metadata": {},
     "output_type": "execute_result"
    }
   ],
   "source": [
    "amazon.groupby('month_name')['cogs'].max().idxmax()"
   ]
  },
  {
   "cell_type": "markdown",
   "id": "70532b11",
   "metadata": {},
   "source": [
    "8. Which product line generated the highest revenue?"
   ]
  },
  {
   "cell_type": "code",
   "execution_count": 14,
   "id": "9cffca81",
   "metadata": {},
   "outputs": [
    {
     "data": {
      "text/plain": [
       "'Food and beverages'"
      ]
     },
     "execution_count": 14,
     "metadata": {},
     "output_type": "execute_result"
    }
   ],
   "source": [
    "amazon.groupby('Product_line')['Total'].sum().idxmax()"
   ]
  },
  {
   "cell_type": "markdown",
   "id": "fc58f5d2",
   "metadata": {},
   "source": [
    "9. In which city was the highest revenue recorded?"
   ]
  },
  {
   "cell_type": "code",
   "execution_count": 15,
   "id": "ef74160b",
   "metadata": {},
   "outputs": [
    {
     "data": {
      "text/plain": [
       "City\n",
       "Naypyitaw    110568.86\n",
       "Yangon       106200.57\n",
       "Mandalay     106198.00\n",
       "Name: Total, dtype: float64"
      ]
     },
     "execution_count": 15,
     "metadata": {},
     "output_type": "execute_result"
    }
   ],
   "source": [
    "amazon.groupby('City')['Total'].sum().sort_values(ascending=False)"
   ]
  },
  {
   "cell_type": "markdown",
   "id": "49c4f0df",
   "metadata": {},
   "source": [
    "10. Which product line incurred the highest Value Added Tax?"
   ]
  },
  {
   "cell_type": "code",
   "execution_count": 29,
   "id": "e7927aa2",
   "metadata": {},
   "outputs": [
    {
     "data": {
      "text/plain": [
       "Product_line\n",
       "Food and beverages        2673.5640\n",
       "Sports and travel         2624.8965\n",
       "Electronic accessories    2587.5015\n",
       "Fashion accessories       2585.9950\n",
       "Home and lifestyle        2564.8530\n",
       "Health and beauty         2342.5590\n",
       "Name: VAT, dtype: float64"
      ]
     },
     "execution_count": 29,
     "metadata": {},
     "output_type": "execute_result"
    }
   ],
   "source": [
    "amazon.groupby('Product_line')['VAT'].sum().sort_values(ascending=False)"
   ]
  },
  {
   "cell_type": "markdown",
   "id": "ba3a7c59",
   "metadata": {},
   "source": [
    "11. For each product line, add a column indicating \"Good\" if its sales are above average, otherwise \"Bad.\""
   ]
  },
  {
   "cell_type": "code",
   "execution_count": 11,
   "id": "86da269b",
   "metadata": {
    "scrolled": true
   },
   "outputs": [
    {
     "data": {
      "text/html": [
       "<div>\n",
       "<style scoped>\n",
       "    .dataframe tbody tr th:only-of-type {\n",
       "        vertical-align: middle;\n",
       "    }\n",
       "\n",
       "    .dataframe tbody tr th {\n",
       "        vertical-align: top;\n",
       "    }\n",
       "\n",
       "    .dataframe thead th {\n",
       "        text-align: right;\n",
       "    }\n",
       "</style>\n",
       "<table border=\"1\" class=\"dataframe\">\n",
       "  <thead>\n",
       "    <tr style=\"text-align: right;\">\n",
       "      <th></th>\n",
       "      <th>Invoice_Id</th>\n",
       "      <th>Branch</th>\n",
       "      <th>City</th>\n",
       "      <th>Customer_type</th>\n",
       "      <th>Gender</th>\n",
       "      <th>Product_line</th>\n",
       "      <th>Unit_price</th>\n",
       "      <th>Quantity</th>\n",
       "      <th>VAT</th>\n",
       "      <th>Total</th>\n",
       "      <th>...</th>\n",
       "      <th>Time</th>\n",
       "      <th>Payment</th>\n",
       "      <th>cogs</th>\n",
       "      <th>gross_margin_percentage</th>\n",
       "      <th>gross_income</th>\n",
       "      <th>Rating</th>\n",
       "      <th>time_of_day</th>\n",
       "      <th>day_name</th>\n",
       "      <th>month_name</th>\n",
       "      <th>sales_performance</th>\n",
       "    </tr>\n",
       "  </thead>\n",
       "  <tbody>\n",
       "    <tr>\n",
       "      <th>0</th>\n",
       "      <td>750-67-8428</td>\n",
       "      <td>A</td>\n",
       "      <td>Yangon</td>\n",
       "      <td>Member</td>\n",
       "      <td>Female</td>\n",
       "      <td>Health and beauty</td>\n",
       "      <td>74.69</td>\n",
       "      <td>7</td>\n",
       "      <td>26.1415</td>\n",
       "      <td>548.97</td>\n",
       "      <td>...</td>\n",
       "      <td>0 days 13:08:00</td>\n",
       "      <td>Ewallet</td>\n",
       "      <td>522.83</td>\n",
       "      <td>4.7619</td>\n",
       "      <td>26.14</td>\n",
       "      <td>9.1</td>\n",
       "      <td>Afternoon</td>\n",
       "      <td>Sat</td>\n",
       "      <td>Jan</td>\n",
       "      <td>Good</td>\n",
       "    </tr>\n",
       "    <tr>\n",
       "      <th>1</th>\n",
       "      <td>226-31-3081</td>\n",
       "      <td>C</td>\n",
       "      <td>Naypyitaw</td>\n",
       "      <td>Normal</td>\n",
       "      <td>Female</td>\n",
       "      <td>Electronic accessories</td>\n",
       "      <td>15.28</td>\n",
       "      <td>5</td>\n",
       "      <td>3.8200</td>\n",
       "      <td>80.22</td>\n",
       "      <td>...</td>\n",
       "      <td>0 days 10:29:00</td>\n",
       "      <td>Cash</td>\n",
       "      <td>76.40</td>\n",
       "      <td>4.7619</td>\n",
       "      <td>3.82</td>\n",
       "      <td>9.6</td>\n",
       "      <td>Morning</td>\n",
       "      <td>Fri</td>\n",
       "      <td>Mar</td>\n",
       "      <td>Bad</td>\n",
       "    </tr>\n",
       "    <tr>\n",
       "      <th>2</th>\n",
       "      <td>631-41-3108</td>\n",
       "      <td>A</td>\n",
       "      <td>Yangon</td>\n",
       "      <td>Normal</td>\n",
       "      <td>Male</td>\n",
       "      <td>Home and lifestyle</td>\n",
       "      <td>46.33</td>\n",
       "      <td>7</td>\n",
       "      <td>16.2155</td>\n",
       "      <td>340.53</td>\n",
       "      <td>...</td>\n",
       "      <td>0 days 13:23:00</td>\n",
       "      <td>Credit card</td>\n",
       "      <td>324.31</td>\n",
       "      <td>4.7619</td>\n",
       "      <td>16.22</td>\n",
       "      <td>7.4</td>\n",
       "      <td>Afternoon</td>\n",
       "      <td>Sun</td>\n",
       "      <td>Mar</td>\n",
       "      <td>Good</td>\n",
       "    </tr>\n",
       "    <tr>\n",
       "      <th>3</th>\n",
       "      <td>123-19-1176</td>\n",
       "      <td>A</td>\n",
       "      <td>Yangon</td>\n",
       "      <td>Member</td>\n",
       "      <td>Male</td>\n",
       "      <td>Health and beauty</td>\n",
       "      <td>58.22</td>\n",
       "      <td>8</td>\n",
       "      <td>23.2880</td>\n",
       "      <td>489.05</td>\n",
       "      <td>...</td>\n",
       "      <td>0 days 20:33:00</td>\n",
       "      <td>Ewallet</td>\n",
       "      <td>465.76</td>\n",
       "      <td>4.7619</td>\n",
       "      <td>23.29</td>\n",
       "      <td>8.4</td>\n",
       "      <td>Evening</td>\n",
       "      <td>Sun</td>\n",
       "      <td>Jan</td>\n",
       "      <td>Good</td>\n",
       "    </tr>\n",
       "    <tr>\n",
       "      <th>4</th>\n",
       "      <td>373-73-7910</td>\n",
       "      <td>A</td>\n",
       "      <td>Yangon</td>\n",
       "      <td>Normal</td>\n",
       "      <td>Male</td>\n",
       "      <td>Sports and travel</td>\n",
       "      <td>86.31</td>\n",
       "      <td>7</td>\n",
       "      <td>30.2085</td>\n",
       "      <td>634.38</td>\n",
       "      <td>...</td>\n",
       "      <td>0 days 10:37:00</td>\n",
       "      <td>Ewallet</td>\n",
       "      <td>604.17</td>\n",
       "      <td>4.7619</td>\n",
       "      <td>30.21</td>\n",
       "      <td>5.3</td>\n",
       "      <td>Morning</td>\n",
       "      <td>Fri</td>\n",
       "      <td>Feb</td>\n",
       "      <td>Good</td>\n",
       "    </tr>\n",
       "  </tbody>\n",
       "</table>\n",
       "<p>5 rows × 21 columns</p>\n",
       "</div>"
      ],
      "text/plain": [
       "    Invoice_Id Branch       City Customer_type  Gender  \\\n",
       "0  750-67-8428      A     Yangon        Member  Female   \n",
       "1  226-31-3081      C  Naypyitaw        Normal  Female   \n",
       "2  631-41-3108      A     Yangon        Normal    Male   \n",
       "3  123-19-1176      A     Yangon        Member    Male   \n",
       "4  373-73-7910      A     Yangon        Normal    Male   \n",
       "\n",
       "             Product_line  Unit_price  Quantity      VAT   Total  ...  \\\n",
       "0       Health and beauty       74.69         7  26.1415  548.97  ...   \n",
       "1  Electronic accessories       15.28         5   3.8200   80.22  ...   \n",
       "2      Home and lifestyle       46.33         7  16.2155  340.53  ...   \n",
       "3       Health and beauty       58.22         8  23.2880  489.05  ...   \n",
       "4       Sports and travel       86.31         7  30.2085  634.38  ...   \n",
       "\n",
       "             Time      Payment    cogs  gross_margin_percentage  gross_income  \\\n",
       "0 0 days 13:08:00      Ewallet  522.83                   4.7619         26.14   \n",
       "1 0 days 10:29:00         Cash   76.40                   4.7619          3.82   \n",
       "2 0 days 13:23:00  Credit card  324.31                   4.7619         16.22   \n",
       "3 0 days 20:33:00      Ewallet  465.76                   4.7619         23.29   \n",
       "4 0 days 10:37:00      Ewallet  604.17                   4.7619         30.21   \n",
       "\n",
       "   Rating  time_of_day day_name month_name sales_performance  \n",
       "0     9.1    Afternoon      Sat        Jan              Good  \n",
       "1     9.6      Morning      Fri        Mar               Bad  \n",
       "2     7.4    Afternoon      Sun        Mar              Good  \n",
       "3     8.4      Evening      Sun        Jan              Good  \n",
       "4     5.3      Morning      Fri        Feb              Good  \n",
       "\n",
       "[5 rows x 21 columns]"
      ]
     },
     "execution_count": 11,
     "metadata": {},
     "output_type": "execute_result"
    }
   ],
   "source": [
    "avg_sales = amazon['gross_income'].mean()\n",
    "amazon['sales_performance'] = np.where(amazon['gross_income'] > avg_sales, 'Good', 'Bad')\n",
    "amazon.head()"
   ]
  },
  {
   "cell_type": "code",
   "execution_count": 12,
   "id": "fd3098c9",
   "metadata": {},
   "outputs": [
    {
     "data": {
      "text/plain": [
       "Bad     597\n",
       "Good    403\n",
       "Name: sales_performance, dtype: int64"
      ]
     },
     "execution_count": 12,
     "metadata": {},
     "output_type": "execute_result"
    }
   ],
   "source": [
    "amazon['sales_performance'].value_counts()"
   ]
  },
  {
   "cell_type": "markdown",
   "id": "656fb54b",
   "metadata": {},
   "source": [
    "12. Identify the branch that exceeded the average number of products sold."
   ]
  },
  {
   "cell_type": "code",
   "execution_count": 18,
   "id": "f687fc70",
   "metadata": {},
   "outputs": [
    {
     "name": "stdout",
     "output_type": "stream",
     "text": [
      "('A',)\n",
      "('C',)\n",
      "('B',)\n"
     ]
    }
   ],
   "source": [
    "mycursor.execute('select distinct branch from amazon where quantity > (select avg(quantity) from amazon ) ')\n",
    "result = mycursor.fetchall()\n",
    "for row in result:\n",
    "    print(row)"
   ]
  },
  {
   "cell_type": "code",
   "execution_count": 19,
   "id": "7e6c5615",
   "metadata": {},
   "outputs": [
    {
     "data": {
      "text/plain": [
       "array(['A', 'C', 'B'], dtype=object)"
      ]
     },
     "execution_count": 19,
     "metadata": {},
     "output_type": "execute_result"
    }
   ],
   "source": [
    "avg_product_sold = amazon['Quantity'].mean()\n",
    "branch_exceed_avg = amazon[amazon['Quantity'] > avg_product_sold]\n",
    "branch_names = branch_exceed_avg['Branch'].unique()\n",
    "branch_names"
   ]
  },
  {
   "cell_type": "markdown",
   "id": "5cedf383",
   "metadata": {},
   "source": [
    "13. Which product line is most frequently associated with each gender?"
   ]
  },
  {
   "cell_type": "code",
   "execution_count": 20,
   "id": "5a0524fb",
   "metadata": {},
   "outputs": [
    {
     "data": {
      "text/plain": [
       "Gender\n",
       "Female    (Female, Fashion accessories)\n",
       "Male          (Male, Health and beauty)\n",
       "Name: Product_line, dtype: object"
      ]
     },
     "execution_count": 20,
     "metadata": {},
     "output_type": "execute_result"
    }
   ],
   "source": [
    "result = amazon.groupby('Gender')['Product_line'].value_counts()\n",
    "most_freq = result.groupby('Gender').idxmax()\n",
    "most_freq"
   ]
  },
  {
   "cell_type": "markdown",
   "id": "c30d3b40",
   "metadata": {},
   "source": [
    "14. Calculate the average rating for each product line."
   ]
  },
  {
   "cell_type": "code",
   "execution_count": 24,
   "id": "bea4c428",
   "metadata": {},
   "outputs": [
    {
     "data": {
      "text/plain": [
       "Product_line\n",
       "Electronic accessories    6.924706\n",
       "Fashion accessories       7.029213\n",
       "Food and beverages        7.113218\n",
       "Health and beauty         7.003289\n",
       "Home and lifestyle        6.837500\n",
       "Sports and travel         6.916265\n",
       "Name: Rating, dtype: float64"
      ]
     },
     "execution_count": 24,
     "metadata": {},
     "output_type": "execute_result"
    }
   ],
   "source": [
    "amazon.groupby('Product_line')['Rating'].mean()"
   ]
  },
  {
   "cell_type": "markdown",
   "id": "306df9c9",
   "metadata": {},
   "source": [
    "15. Count the sales occurrences for each time of day on every weekday."
   ]
  },
  {
   "cell_type": "code",
   "execution_count": 25,
   "id": "0f5901fd",
   "metadata": {},
   "outputs": [
    {
     "data": {
      "text/plain": [
       "time_of_day  day_name\n",
       "Afternoon    Fri         74\n",
       "             Mon         75\n",
       "             Sat         81\n",
       "             Sun         70\n",
       "             Thu         76\n",
       "             Tue         71\n",
       "             Wed         81\n",
       "Evening      Fri         36\n",
       "             Mon         29\n",
       "             Sat         55\n",
       "             Sun         41\n",
       "             Thu         29\n",
       "             Tue         51\n",
       "             Wed         40\n",
       "Morning      Fri         29\n",
       "             Mon         21\n",
       "             Sat         28\n",
       "             Sun         22\n",
       "             Thu         33\n",
       "             Tue         36\n",
       "             Wed         22\n",
       "dtype: int64"
      ]
     },
     "execution_count": 25,
     "metadata": {},
     "output_type": "execute_result"
    }
   ],
   "source": [
    "count = amazon.groupby(['time_of_day','day_name']).size()\n",
    "count"
   ]
  },
  {
   "cell_type": "markdown",
   "id": "527317a0",
   "metadata": {},
   "source": [
    "16. Identify the customer type contributing the highest revenue."
   ]
  },
  {
   "cell_type": "code",
   "execution_count": 26,
   "id": "6457028b",
   "metadata": {},
   "outputs": [
    {
     "data": {
      "text/plain": [
       "Customer_type\n",
       "Member    164223.81\n",
       "Normal    158743.62\n",
       "Name: Total, dtype: float64"
      ]
     },
     "execution_count": 26,
     "metadata": {},
     "output_type": "execute_result"
    }
   ],
   "source": [
    "amazon.groupby('Customer_type')['Total'].sum()"
   ]
  },
  {
   "cell_type": "markdown",
   "id": "3020aa42",
   "metadata": {},
   "source": [
    "17. Determine the city with the highest VAT percentage."
   ]
  },
  {
   "cell_type": "code",
   "execution_count": 28,
   "id": "05e52050",
   "metadata": {},
   "outputs": [
    {
     "data": {
      "text/plain": [
       "City\n",
       "Mandalay     4.761890\n",
       "Naypyitaw    4.761898\n",
       "Yangon       4.761896\n",
       "dtype: float64"
      ]
     },
     "execution_count": 28,
     "metadata": {},
     "output_type": "execute_result"
    }
   ],
   "source": [
    "vat_city = amazon.groupby('City')['VAT'].sum()\n",
    "rev_city = amazon.groupby('City')['Total'].sum()\n",
    "vat_percent = (vat_city/rev_city)*100\n",
    "vat_percent"
   ]
  },
  {
   "cell_type": "markdown",
   "id": "3960c2d0",
   "metadata": {},
   "source": [
    "18. Identify the customer type with the highest VAT payments."
   ]
  },
  {
   "cell_type": "code",
   "execution_count": 30,
   "id": "627e550d",
   "metadata": {},
   "outputs": [
    {
     "data": {
      "text/plain": [
       "Customer_type\n",
       "Member    7820.164\n",
       "Normal    7559.205\n",
       "Name: VAT, dtype: float64"
      ]
     },
     "execution_count": 30,
     "metadata": {},
     "output_type": "execute_result"
    }
   ],
   "source": [
    "amazon.groupby('Customer_type')['VAT'].sum()"
   ]
  },
  {
   "cell_type": "markdown",
   "id": "77e631ea",
   "metadata": {},
   "source": [
    "19. What is the count of distinct customer types in the dataset?"
   ]
  },
  {
   "cell_type": "code",
   "execution_count": 31,
   "id": "44a72e10",
   "metadata": {},
   "outputs": [
    {
     "data": {
      "text/plain": [
       "2"
      ]
     },
     "execution_count": 31,
     "metadata": {},
     "output_type": "execute_result"
    }
   ],
   "source": [
    "amazon['Customer_type'].nunique()"
   ]
  },
  {
   "cell_type": "markdown",
   "id": "1b242863",
   "metadata": {},
   "source": [
    "20. What is the count of distinct payment methods in the dataset?"
   ]
  },
  {
   "cell_type": "code",
   "execution_count": 32,
   "id": "95877c0a",
   "metadata": {},
   "outputs": [
    {
     "data": {
      "text/plain": [
       "3"
      ]
     },
     "execution_count": 32,
     "metadata": {},
     "output_type": "execute_result"
    }
   ],
   "source": [
    "amazon['Payment'].nunique()"
   ]
  },
  {
   "cell_type": "markdown",
   "id": "1793dc59",
   "metadata": {},
   "source": [
    "21. Which customer type occurs most frequently?"
   ]
  },
  {
   "cell_type": "code",
   "execution_count": 33,
   "id": "66fdc02f",
   "metadata": {},
   "outputs": [
    {
     "data": {
      "text/plain": [
       "'Member'"
      ]
     },
     "execution_count": 33,
     "metadata": {},
     "output_type": "execute_result"
    }
   ],
   "source": [
    "customer_type_counts = amazon['Customer_type'].value_counts()\n",
    "most_frequent_customer_type = customer_type_counts.idxmax()\n",
    "most_frequent_customer_type"
   ]
  },
  {
   "cell_type": "markdown",
   "id": "ecb9a3a7",
   "metadata": {},
   "source": [
    "22. Identify the customer type with the highest purchase frequency."
   ]
  },
  {
   "cell_type": "code",
   "execution_count": 34,
   "id": "b006283e",
   "metadata": {},
   "outputs": [
    {
     "data": {
      "text/plain": [
       "Customer_type\n",
       "Member    2785\n",
       "Normal    2725\n",
       "Name: Quantity, dtype: int64"
      ]
     },
     "execution_count": 34,
     "metadata": {},
     "output_type": "execute_result"
    }
   ],
   "source": [
    "amazon.groupby('Customer_type')['Quantity'].sum()"
   ]
  },
  {
   "cell_type": "markdown",
   "id": "a100cebe",
   "metadata": {},
   "source": [
    "23. Determine the predominant gender among customers."
   ]
  },
  {
   "cell_type": "code",
   "execution_count": 35,
   "id": "f5d7b4cb",
   "metadata": {},
   "outputs": [
    {
     "data": {
      "text/plain": [
       "'Female'"
      ]
     },
     "execution_count": 35,
     "metadata": {},
     "output_type": "execute_result"
    }
   ],
   "source": [
    "amazon['Gender'].value_counts().idxmax()"
   ]
  },
  {
   "cell_type": "markdown",
   "id": "24c30406",
   "metadata": {},
   "source": [
    "24. Examine the distribution of genders within each branch."
   ]
  },
  {
   "cell_type": "code",
   "execution_count": 36,
   "id": "a83b21ea",
   "metadata": {},
   "outputs": [
    {
     "data": {
      "text/html": [
       "<div>\n",
       "<style scoped>\n",
       "    .dataframe tbody tr th:only-of-type {\n",
       "        vertical-align: middle;\n",
       "    }\n",
       "\n",
       "    .dataframe tbody tr th {\n",
       "        vertical-align: top;\n",
       "    }\n",
       "\n",
       "    .dataframe thead th {\n",
       "        text-align: right;\n",
       "    }\n",
       "</style>\n",
       "<table border=\"1\" class=\"dataframe\">\n",
       "  <thead>\n",
       "    <tr style=\"text-align: right;\">\n",
       "      <th>Branch</th>\n",
       "      <th>A</th>\n",
       "      <th>B</th>\n",
       "      <th>C</th>\n",
       "    </tr>\n",
       "    <tr>\n",
       "      <th>Gender</th>\n",
       "      <th></th>\n",
       "      <th></th>\n",
       "      <th></th>\n",
       "    </tr>\n",
       "  </thead>\n",
       "  <tbody>\n",
       "    <tr>\n",
       "      <th>Female</th>\n",
       "      <td>161</td>\n",
       "      <td>162</td>\n",
       "      <td>178</td>\n",
       "    </tr>\n",
       "    <tr>\n",
       "      <th>Male</th>\n",
       "      <td>179</td>\n",
       "      <td>170</td>\n",
       "      <td>150</td>\n",
       "    </tr>\n",
       "  </tbody>\n",
       "</table>\n",
       "</div>"
      ],
      "text/plain": [
       "Branch    A    B    C\n",
       "Gender               \n",
       "Female  161  162  178\n",
       "Male    179  170  150"
      ]
     },
     "execution_count": 36,
     "metadata": {},
     "output_type": "execute_result"
    }
   ],
   "source": [
    "gender_branch_distribution = pd.crosstab(amazon['Gender'], amazon['Branch'])\n",
    "gender_branch_distribution"
   ]
  },
  {
   "cell_type": "markdown",
   "id": "f4fbb83d",
   "metadata": {},
   "source": [
    "25. Identify the time of day when customers provide the most ratings."
   ]
  },
  {
   "cell_type": "code",
   "execution_count": 37,
   "id": "71006cf5",
   "metadata": {},
   "outputs": [
    {
     "data": {
      "text/plain": [
       "'Afternoon'"
      ]
     },
     "execution_count": 37,
     "metadata": {},
     "output_type": "execute_result"
    }
   ],
   "source": [
    "amazon.groupby('time_of_day')['Rating'].size().idxmax()"
   ]
  },
  {
   "cell_type": "markdown",
   "id": "d651bb14",
   "metadata": {},
   "source": [
    "26. Determine the time of day with the highest customer ratings for each branch."
   ]
  },
  {
   "cell_type": "code",
   "execution_count": 38,
   "id": "74098778",
   "metadata": {},
   "outputs": [
    {
     "data": {
      "text/plain": [
       "Branch  time_of_day\n",
       "A       Afternoon      185\n",
       "        Evening         82\n",
       "        Morning         73\n",
       "B       Afternoon      162\n",
       "        Evening        111\n",
       "        Morning         59\n",
       "C       Afternoon      181\n",
       "        Evening         88\n",
       "        Morning         59\n",
       "Name: Rating, dtype: int64"
      ]
     },
     "execution_count": 38,
     "metadata": {},
     "output_type": "execute_result"
    }
   ],
   "source": [
    "amazon.groupby(['Branch','time_of_day'])['Rating'].size()"
   ]
  },
  {
   "cell_type": "markdown",
   "id": "7108e5c4",
   "metadata": {},
   "source": [
    "27. Identify the day of the week with the highest average ratings."
   ]
  },
  {
   "cell_type": "code",
   "execution_count": 39,
   "id": "d7a8f309",
   "metadata": {},
   "outputs": [
    {
     "data": {
      "text/plain": [
       "'Mon'"
      ]
     },
     "execution_count": 39,
     "metadata": {},
     "output_type": "execute_result"
    }
   ],
   "source": [
    "amazon.groupby('day_name')['Rating'].mean().idxmax()"
   ]
  },
  {
   "cell_type": "markdown",
   "id": "73168f39",
   "metadata": {},
   "source": [
    "28. Determine the day of the week with the highest average ratings for each branch."
   ]
  },
  {
   "cell_type": "code",
   "execution_count": 40,
   "id": "f344ef37",
   "metadata": {},
   "outputs": [
    {
     "data": {
      "text/plain": [
       "Branch\n",
       "A    (A, Fri)\n",
       "B    (B, Mon)\n",
       "C    (C, Fri)\n",
       "Name: Rating, dtype: object"
      ]
     },
     "execution_count": 40,
     "metadata": {},
     "output_type": "execute_result"
    }
   ],
   "source": [
    "average_ratings_by_day = amazon.groupby(['Branch','day_name'])['Rating'].mean()\n",
    "highest_average_ratings = average_ratings_by_day.groupby('Branch').idxmax()\n",
    "highest_average_ratings"
   ]
  },
  {
   "cell_type": "code",
   "execution_count": null,
   "id": "0cc79454",
   "metadata": {},
   "outputs": [],
   "source": []
  }
 ],
 "metadata": {
  "kernelspec": {
   "display_name": "Python 3 (ipykernel)",
   "language": "python",
   "name": "python3"
  },
  "language_info": {
   "codemirror_mode": {
    "name": "ipython",
    "version": 3
   },
   "file_extension": ".py",
   "mimetype": "text/x-python",
   "name": "python",
   "nbconvert_exporter": "python",
   "pygments_lexer": "ipython3",
   "version": "3.10.9"
  }
 },
 "nbformat": 4,
 "nbformat_minor": 5
}
